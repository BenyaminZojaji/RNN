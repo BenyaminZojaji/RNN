{
  "cells": [
    {
      "cell_type": "code",
      "source": [
        "from google.colab import drive\n",
        "drive.mount('/content/drive')"
      ],
      "metadata": {
        "id": "CTQSzj3u6NQM"
      },
      "execution_count": null,
      "outputs": []
    },
    {
      "cell_type": "code",
      "execution_count": null,
      "metadata": {
        "id": "GzwBXo_B6DP3"
      },
      "outputs": [],
      "source": [
        "import os\n",
        "import torch\n",
        "import torch.nn as nn\n",
        "import torch.nn.functional as F\n",
        "from torch.nn.utils.rnn import pad_sequence\n",
        "from torch.utils.data import Dataset\n",
        "import torchaudio\n",
        "import numpy as np\n",
        "from tqdm import tqdm"
      ]
    },
    {
      "cell_type": "code",
      "execution_count": null,
      "metadata": {
        "colab": {
          "base_uri": "https://localhost:8080/"
        },
        "id": "I_2IpRKL6DP6",
        "outputId": "e958420e-f95b-4dd2-c776-730f6153fa4b"
      },
      "outputs": [
        {
          "output_type": "stream",
          "name": "stdout",
          "text": [
            "Using cpu\n"
          ]
        }
      ],
      "source": [
        "device = torch.device(\"cuda\" if torch.cuda.is_available() else \"cpu\")\n",
        "print(f\"Using {device}\")\n",
        "\n",
        "if device == \"cuda\":\n",
        "    num_workers = 1\n",
        "    pin_memory = True\n",
        "else:\n",
        "    num_workers = 0\n",
        "    pin_memory = False"
      ]
    },
    {
      "cell_type": "code",
      "execution_count": null,
      "metadata": {
        "id": "kSV_AlvO6DP8"
      },
      "outputs": [],
      "source": [
        "epochs = 50\n",
        "lr = 0.001\n",
        "batch_size = 6"
      ]
    },
    {
      "cell_type": "code",
      "execution_count": null,
      "metadata": {
        "id": "_6QuORni6DP9"
      },
      "outputs": [],
      "source": [
        "# Make all tensor in a batch the same length by padding with zeros\n",
        "\n",
        "def pad_sequence(batch):\n",
        "    batch = [item.t() for item in batch]\n",
        "    batch = torch.nn.utils.rnn.pad_sequence(batch, batch_first=True, padding_value=0.)\n",
        "    return batch.permute(0, 2, 1)\n",
        "\n",
        "\n",
        "def collate_fn(batch):\n",
        "    tensors, targets = [], []\n",
        "\n",
        "    for waveform, label in batch:\n",
        "        tensors += [waveform]\n",
        "        targets += torch.tensor([label])\n",
        "\n",
        "    tensors = pad_sequence(tensors)\n",
        "    targets = torch.stack(targets)\n",
        "\n",
        "    return tensors, targets"
      ]
    },
    {
      "cell_type": "code",
      "execution_count": null,
      "metadata": {
        "id": "1Egb-EoC6DP-"
      },
      "outputs": [],
      "source": [
        "class AudioDataset(Dataset):\n",
        "    def __init__(self, dir_path):\n",
        "        self.dir_path = dir_path\n",
        "        self.classes = os.listdir(self.dir_path)\n",
        "        self.data_paths = []\n",
        "        self.labels = []\n",
        "\n",
        "        for root, dirs, files in os.walk(self.dir_path):\n",
        "            for file in files:\n",
        "                label = os.path.basename(root)\n",
        "                data_path = os.path.join(root, file)\n",
        "                self.data_paths.append(data_path)\n",
        "                self.labels.append(self.classes.index(label))\n",
        "\n",
        "        print(\"classes: \", self.classes)\n",
        "        print(f\"{len(self.labels)} datas loaded from {len(set(self.labels))} classes\")\n",
        "\n",
        "    def __len__(self):\n",
        "        return len(self.labels)\n",
        "\n",
        "    def __getitem__(self, index):\n",
        "        data_path = self.data_paths[index]\n",
        "        label = self.labels[index]\n",
        "        signal, sample_rate = torchaudio.load(data_path)\n",
        "        signal_mono = torch.mean(signal, dim=0, keepdim=True)\n",
        "\n",
        "        new_sample_rate = 8000\n",
        "        transform = torchaudio.transforms.Resample(orig_freq=sample_rate, new_freq=new_sample_rate)\n",
        "        signal_mono_transformed = transform(signal_mono)\n",
        "\n",
        "        return signal_mono_transformed, label"
      ]
    },
    {
      "cell_type": "code",
      "execution_count": null,
      "metadata": {
        "colab": {
          "base_uri": "https://localhost:8080/"
        },
        "id": "sH1UjVGX6DQA",
        "outputId": "51d0d0c2-18d3-4771-a04d-d84faa6a9a89"
      },
      "outputs": [
        {
          "output_type": "stream",
          "name": "stdout",
          "text": [
            "classes:  ['zahra', 'sajjad', 'benyamin', 'alireza', 'maryam', 'nahid', 'parisa', 'mohammadali', 'morteza', 'zeynab']\n",
            "243 datas loaded from 10 classes\n"
          ]
        }
      ],
      "source": [
        "ROOT = '/content/drive/MyDrive/Dataset/audio_classification/'\n",
        "dataset = AudioDataset(ROOT + \"dataset\")\n",
        "\n",
        "train_size = int(len(dataset)*0.9)\n",
        "test_size = len(dataset) - train_size\n",
        "\n",
        "train_dataset, test_dataset = torch.utils.data.random_split(dataset, [train_size, test_size])\n",
        "train_data_loader = torch.utils.data.DataLoader(train_dataset, \n",
        "                                                batch_size=batch_size, \n",
        "                                                shuffle=True, \n",
        "                                                collate_fn=collate_fn,\n",
        "                                                num_workers=num_workers, \n",
        "                                                pin_memory=pin_memory)\n",
        "\n",
        "test_data_loader = torch.utils.data.DataLoader(test_dataset, \n",
        "                                                batch_size=batch_size, \n",
        "                                                shuffle=False,\n",
        "                                                collate_fn=collate_fn,\n",
        "                                                num_workers=num_workers, \n",
        "                                                pin_memory=pin_memory)"
      ]
    },
    {
      "cell_type": "code",
      "execution_count": null,
      "metadata": {
        "id": "DqiGm9t-6DQB"
      },
      "outputs": [],
      "source": [
        "class M5(nn.Module):\n",
        "    def __init__(self, n_input=1, n_output=35, stride=10, n_channel=32):\n",
        "        super().__init__()\n",
        "        self.conv1 = nn.Conv1d(n_input, n_channel, kernel_size=60, stride=stride)\n",
        "        self.bn1 = nn.BatchNorm1d(n_channel)\n",
        "        self.pool1 = nn.MaxPool1d(4)\n",
        "        self.conv2 = nn.Conv1d(n_channel, n_channel, kernel_size=3)\n",
        "        self.bn2 = nn.BatchNorm1d(n_channel)\n",
        "        self.pool2 = nn.MaxPool1d(4)\n",
        "        self.conv3 = nn.Conv1d(n_channel, 2 * n_channel, kernel_size=3)\n",
        "        self.bn3 = nn.BatchNorm1d(2 * n_channel)\n",
        "        self.pool3 = nn.MaxPool1d(4)\n",
        "        self.conv4 = nn.Conv1d(2 * n_channel, 2 * n_channel, kernel_size=3)\n",
        "        self.bn4 = nn.BatchNorm1d(2 * n_channel)\n",
        "        self.pool4 = nn.MaxPool1d(4)\n",
        "        self.fc1 = nn.Linear(2 * n_channel, n_output)\n",
        "\n",
        "    def forward(self, x):\n",
        "        x = self.conv1(x)\n",
        "        x = F.relu(self.bn1(x))\n",
        "        x = self.pool1(x)\n",
        "        x = self.conv2(x)\n",
        "        x = F.relu(self.bn2(x))\n",
        "        x = self.pool2(x)\n",
        "        x = self.conv3(x)\n",
        "        x = F.relu(self.bn3(x))\n",
        "        x = self.pool3(x)\n",
        "        x = self.conv4(x)\n",
        "        x = F.relu(self.bn4(x))\n",
        "        x = self.pool4(x)\n",
        "        x = F.avg_pool1d(x, x.shape[-1])\n",
        "        x = torch.flatten(x, start_dim=1)\n",
        "        x = self.fc1(x)\n",
        "        x = F.softmax(x, dim=1)\n",
        "        return x\n",
        "\n",
        "    def accuracy(self, preds, labels):\n",
        "        maxs, indices = torch.max(preds, 1)\n",
        "        acc = torch.sum(indices == labels) / len(preds)\n",
        "        return acc.cpu()"
      ]
    },
    {
      "cell_type": "code",
      "execution_count": null,
      "metadata": {
        "colab": {
          "base_uri": "https://localhost:8080/"
        },
        "id": "-_yTNq3j6DQC",
        "outputId": "47fc4e0f-09b9-47b3-b681-a915835bd98b"
      },
      "outputs": [
        {
          "output_type": "stream",
          "name": "stdout",
          "text": [
            "M5(\n",
            "  (conv1): Conv1d(1, 32, kernel_size=(60,), stride=(10,))\n",
            "  (bn1): BatchNorm1d(32, eps=1e-05, momentum=0.1, affine=True, track_running_stats=True)\n",
            "  (pool1): MaxPool1d(kernel_size=4, stride=4, padding=0, dilation=1, ceil_mode=False)\n",
            "  (conv2): Conv1d(32, 32, kernel_size=(3,), stride=(1,))\n",
            "  (bn2): BatchNorm1d(32, eps=1e-05, momentum=0.1, affine=True, track_running_stats=True)\n",
            "  (pool2): MaxPool1d(kernel_size=4, stride=4, padding=0, dilation=1, ceil_mode=False)\n",
            "  (conv3): Conv1d(32, 64, kernel_size=(3,), stride=(1,))\n",
            "  (bn3): BatchNorm1d(64, eps=1e-05, momentum=0.1, affine=True, track_running_stats=True)\n",
            "  (pool3): MaxPool1d(kernel_size=4, stride=4, padding=0, dilation=1, ceil_mode=False)\n",
            "  (conv4): Conv1d(64, 64, kernel_size=(3,), stride=(1,))\n",
            "  (bn4): BatchNorm1d(64, eps=1e-05, momentum=0.1, affine=True, track_running_stats=True)\n",
            "  (pool4): MaxPool1d(kernel_size=4, stride=4, padding=0, dilation=1, ceil_mode=False)\n",
            "  (fc1): Linear(in_features=64, out_features=10, bias=True)\n",
            ")\n",
            "Number of parameters: 24650\n"
          ]
        }
      ],
      "source": [
        "model = M5(n_output=10).to(device)\n",
        "print(model)\n",
        "\n",
        "# count_parameters\n",
        "n = sum(p.numel() for p in model.parameters() if p.requires_grad)\n",
        "print(\"Number of parameters: %s\" % n)"
      ]
    },
    {
      "cell_type": "code",
      "execution_count": null,
      "metadata": {
        "id": "lJpPVVmN6DQD"
      },
      "outputs": [],
      "source": [
        "optimizer = torch.optim.Adam(model.parameters(), lr=lr)\n",
        "loss_function = nn.CrossEntropyLoss()"
      ]
    },
    {
      "cell_type": "code",
      "execution_count": null,
      "metadata": {
        "colab": {
          "base_uri": "https://localhost:8080/"
        },
        "id": "mFC-MpGK6DQE",
        "outputId": "80fd58e8-c0d2-4036-ca8c-7e9f8702751b"
      },
      "outputs": [
        {
          "output_type": "stream",
          "name": "stderr",
          "text": [
            "100%|██████████| 37/37 [00:44<00:00,  1.19s/it]\n"
          ]
        },
        {
          "output_type": "stream",
          "name": "stdout",
          "text": [
            "Epoch: 0, Loss: 2.259014129638672, Acc: 0.20720718801021576\n"
          ]
        },
        {
          "output_type": "stream",
          "name": "stderr",
          "text": [
            "100%|██████████| 37/37 [00:02<00:00, 17.00it/s]\n"
          ]
        },
        {
          "output_type": "stream",
          "name": "stdout",
          "text": [
            "Epoch: 1, Loss: 2.115438222885132, Acc: 0.4324324429035187\n"
          ]
        },
        {
          "output_type": "stream",
          "name": "stderr",
          "text": [
            "100%|██████████| 37/37 [00:02<00:00, 16.98it/s]\n"
          ]
        },
        {
          "output_type": "stream",
          "name": "stdout",
          "text": [
            "Epoch: 2, Loss: 2.006911039352417, Acc: 0.509009063243866\n"
          ]
        },
        {
          "output_type": "stream",
          "name": "stderr",
          "text": [
            "100%|██████████| 37/37 [00:02<00:00, 17.02it/s]\n"
          ]
        },
        {
          "output_type": "stream",
          "name": "stdout",
          "text": [
            "Epoch: 3, Loss: 1.9594898223876953, Acc: 0.5315316319465637\n"
          ]
        },
        {
          "output_type": "stream",
          "name": "stderr",
          "text": [
            "100%|██████████| 37/37 [00:02<00:00, 13.59it/s]\n"
          ]
        },
        {
          "output_type": "stream",
          "name": "stdout",
          "text": [
            "Epoch: 4, Loss: 1.9252554178237915, Acc: 0.5720720887184143\n"
          ]
        },
        {
          "output_type": "stream",
          "name": "stderr",
          "text": [
            "100%|██████████| 37/37 [00:03<00:00, 12.32it/s]\n"
          ]
        },
        {
          "output_type": "stream",
          "name": "stdout",
          "text": [
            "Epoch: 5, Loss: 1.8738415241241455, Acc: 0.6441441178321838\n"
          ]
        },
        {
          "output_type": "stream",
          "name": "stderr",
          "text": [
            "100%|██████████| 37/37 [00:03<00:00, 12.00it/s]\n"
          ]
        },
        {
          "output_type": "stream",
          "name": "stdout",
          "text": [
            "Epoch: 6, Loss: 1.85211980342865, Acc: 0.7342343330383301\n"
          ]
        },
        {
          "output_type": "stream",
          "name": "stderr",
          "text": [
            "100%|██████████| 37/37 [00:02<00:00, 14.48it/s]\n"
          ]
        },
        {
          "output_type": "stream",
          "name": "stdout",
          "text": [
            "Epoch: 7, Loss: 1.7620090246200562, Acc: 0.792792797088623\n"
          ]
        },
        {
          "output_type": "stream",
          "name": "stderr",
          "text": [
            "100%|██████████| 37/37 [00:02<00:00, 16.97it/s]\n"
          ]
        },
        {
          "output_type": "stream",
          "name": "stdout",
          "text": [
            "Epoch: 8, Loss: 1.7798227071762085, Acc: 0.7567567825317383\n"
          ]
        },
        {
          "output_type": "stream",
          "name": "stderr",
          "text": [
            "100%|██████████| 37/37 [00:02<00:00, 16.79it/s]\n"
          ]
        },
        {
          "output_type": "stream",
          "name": "stdout",
          "text": [
            "Epoch: 9, Loss: 1.7471592426300049, Acc: 0.7882883548736572\n"
          ]
        },
        {
          "output_type": "stream",
          "name": "stderr",
          "text": [
            "100%|██████████| 37/37 [00:02<00:00, 16.42it/s]\n"
          ]
        },
        {
          "output_type": "stream",
          "name": "stdout",
          "text": [
            "Epoch: 10, Loss: 1.6875345706939697, Acc: 0.8198198080062866\n"
          ]
        },
        {
          "output_type": "stream",
          "name": "stderr",
          "text": [
            "100%|██████████| 37/37 [00:02<00:00, 17.02it/s]\n"
          ]
        },
        {
          "output_type": "stream",
          "name": "stdout",
          "text": [
            "Epoch: 11, Loss: 1.668380856513977, Acc: 0.8243242502212524\n"
          ]
        },
        {
          "output_type": "stream",
          "name": "stderr",
          "text": [
            "100%|██████████| 37/37 [00:02<00:00, 16.92it/s]\n"
          ]
        },
        {
          "output_type": "stream",
          "name": "stdout",
          "text": [
            "Epoch: 12, Loss: 1.6775622367858887, Acc: 0.792792797088623\n"
          ]
        },
        {
          "output_type": "stream",
          "name": "stderr",
          "text": [
            "100%|██████████| 37/37 [00:02<00:00, 17.00it/s]\n"
          ]
        },
        {
          "output_type": "stream",
          "name": "stdout",
          "text": [
            "Epoch: 13, Loss: 1.6461620330810547, Acc: 0.837837815284729\n"
          ]
        },
        {
          "output_type": "stream",
          "name": "stderr",
          "text": [
            "100%|██████████| 37/37 [00:02<00:00, 16.96it/s]\n"
          ]
        },
        {
          "output_type": "stream",
          "name": "stdout",
          "text": [
            "Epoch: 14, Loss: 1.647060751914978, Acc: 0.8288288116455078\n"
          ]
        },
        {
          "output_type": "stream",
          "name": "stderr",
          "text": [
            "100%|██████████| 37/37 [00:02<00:00, 16.79it/s]\n"
          ]
        },
        {
          "output_type": "stream",
          "name": "stdout",
          "text": [
            "Epoch: 15, Loss: 1.6524626016616821, Acc: 0.8558559417724609\n"
          ]
        },
        {
          "output_type": "stream",
          "name": "stderr",
          "text": [
            "100%|██████████| 37/37 [00:02<00:00, 15.29it/s]\n"
          ]
        },
        {
          "output_type": "stream",
          "name": "stdout",
          "text": [
            "Epoch: 16, Loss: 1.6707450151443481, Acc: 0.8423423767089844\n"
          ]
        },
        {
          "output_type": "stream",
          "name": "stderr",
          "text": [
            "100%|██████████| 37/37 [00:02<00:00, 13.23it/s]\n"
          ]
        },
        {
          "output_type": "stream",
          "name": "stdout",
          "text": [
            "Epoch: 17, Loss: 1.6662753820419312, Acc: 0.8648648858070374\n"
          ]
        },
        {
          "output_type": "stream",
          "name": "stderr",
          "text": [
            "100%|██████████| 37/37 [00:02<00:00, 14.65it/s]\n"
          ]
        },
        {
          "output_type": "stream",
          "name": "stdout",
          "text": [
            "Epoch: 18, Loss: 1.652791976928711, Acc: 0.8783783912658691\n"
          ]
        },
        {
          "output_type": "stream",
          "name": "stderr",
          "text": [
            "100%|██████████| 37/37 [00:02<00:00, 17.16it/s]\n"
          ]
        },
        {
          "output_type": "stream",
          "name": "stdout",
          "text": [
            "Epoch: 19, Loss: 1.6375963687896729, Acc: 0.8783785104751587\n"
          ]
        },
        {
          "output_type": "stream",
          "name": "stderr",
          "text": [
            "100%|██████████| 37/37 [00:02<00:00, 17.06it/s]\n"
          ]
        },
        {
          "output_type": "stream",
          "name": "stdout",
          "text": [
            "Epoch: 20, Loss: 1.629844069480896, Acc: 0.9054055213928223\n"
          ]
        },
        {
          "output_type": "stream",
          "name": "stderr",
          "text": [
            "100%|██████████| 37/37 [00:02<00:00, 14.90it/s]\n"
          ]
        },
        {
          "output_type": "stream",
          "name": "stdout",
          "text": [
            "Epoch: 21, Loss: 1.6007261276245117, Acc: 0.8963964581489563\n"
          ]
        },
        {
          "output_type": "stream",
          "name": "stderr",
          "text": [
            "100%|██████████| 37/37 [00:02<00:00, 16.34it/s]\n"
          ]
        },
        {
          "output_type": "stream",
          "name": "stdout",
          "text": [
            "Epoch: 22, Loss: 1.555776596069336, Acc: 0.9639638662338257\n"
          ]
        },
        {
          "output_type": "stream",
          "name": "stderr",
          "text": [
            "100%|██████████| 37/37 [00:02<00:00, 17.00it/s]\n"
          ]
        },
        {
          "output_type": "stream",
          "name": "stdout",
          "text": [
            "Epoch: 23, Loss: 1.5627858638763428, Acc: 0.9639639854431152\n"
          ]
        },
        {
          "output_type": "stream",
          "name": "stderr",
          "text": [
            "100%|██████████| 37/37 [00:02<00:00, 16.57it/s]\n"
          ]
        },
        {
          "output_type": "stream",
          "name": "stdout",
          "text": [
            "Epoch: 24, Loss: 1.5593509674072266, Acc: 0.9594594836235046\n"
          ]
        },
        {
          "output_type": "stream",
          "name": "stderr",
          "text": [
            "100%|██████████| 37/37 [00:02<00:00, 16.17it/s]\n"
          ]
        },
        {
          "output_type": "stream",
          "name": "stdout",
          "text": [
            "Epoch: 25, Loss: 1.551674246788025, Acc: 0.968468427658081\n"
          ]
        },
        {
          "output_type": "stream",
          "name": "stderr",
          "text": [
            "100%|██████████| 37/37 [00:02<00:00, 16.58it/s]\n"
          ]
        },
        {
          "output_type": "stream",
          "name": "stdout",
          "text": [
            "Epoch: 26, Loss: 1.5151972770690918, Acc: 0.9864864945411682\n"
          ]
        },
        {
          "output_type": "stream",
          "name": "stderr",
          "text": [
            "100%|██████████| 37/37 [00:02<00:00, 16.18it/s]\n"
          ]
        },
        {
          "output_type": "stream",
          "name": "stdout",
          "text": [
            "Epoch: 27, Loss: 1.5331357717514038, Acc: 0.9684685468673706\n"
          ]
        },
        {
          "output_type": "stream",
          "name": "stderr",
          "text": [
            "100%|██████████| 37/37 [00:02<00:00, 16.61it/s]\n"
          ]
        },
        {
          "output_type": "stream",
          "name": "stdout",
          "text": [
            "Epoch: 28, Loss: 1.5148684978485107, Acc: 0.9819819331169128\n"
          ]
        },
        {
          "output_type": "stream",
          "name": "stderr",
          "text": [
            "100%|██████████| 37/37 [00:02<00:00, 15.92it/s]\n"
          ]
        },
        {
          "output_type": "stream",
          "name": "stdout",
          "text": [
            "Epoch: 29, Loss: 1.5202150344848633, Acc: 0.9819819331169128\n"
          ]
        },
        {
          "output_type": "stream",
          "name": "stderr",
          "text": [
            "100%|██████████| 37/37 [00:02<00:00, 15.84it/s]\n"
          ]
        },
        {
          "output_type": "stream",
          "name": "stdout",
          "text": [
            "Epoch: 30, Loss: 1.530490756034851, Acc: 0.9504504799842834\n"
          ]
        },
        {
          "output_type": "stream",
          "name": "stderr",
          "text": [
            "100%|██████████| 37/37 [00:02<00:00, 16.06it/s]\n"
          ]
        },
        {
          "output_type": "stream",
          "name": "stdout",
          "text": [
            "Epoch: 31, Loss: 1.5158522129058838, Acc: 0.977477490901947\n"
          ]
        },
        {
          "output_type": "stream",
          "name": "stderr",
          "text": [
            "100%|██████████| 37/37 [00:02<00:00, 16.65it/s]\n"
          ]
        },
        {
          "output_type": "stream",
          "name": "stdout",
          "text": [
            "Epoch: 32, Loss: 1.5086687803268433, Acc: 0.9774774312973022\n"
          ]
        },
        {
          "output_type": "stream",
          "name": "stderr",
          "text": [
            "100%|██████████| 37/37 [00:02<00:00, 16.87it/s]\n"
          ]
        },
        {
          "output_type": "stream",
          "name": "stdout",
          "text": [
            "Epoch: 33, Loss: 1.5196788311004639, Acc: 0.977477490901947\n"
          ]
        },
        {
          "output_type": "stream",
          "name": "stderr",
          "text": [
            "100%|██████████| 37/37 [00:02<00:00, 16.58it/s]\n"
          ]
        },
        {
          "output_type": "stream",
          "name": "stdout",
          "text": [
            "Epoch: 34, Loss: 1.5037386417388916, Acc: 0.9819819331169128\n"
          ]
        },
        {
          "output_type": "stream",
          "name": "stderr",
          "text": [
            "100%|██████████| 37/37 [00:02<00:00, 16.36it/s]\n"
          ]
        },
        {
          "output_type": "stream",
          "name": "stdout",
          "text": [
            "Epoch: 35, Loss: 1.5198415517807007, Acc: 0.968468427658081\n"
          ]
        },
        {
          "output_type": "stream",
          "name": "stderr",
          "text": [
            "100%|██████████| 37/37 [00:02<00:00, 15.96it/s]\n"
          ]
        },
        {
          "output_type": "stream",
          "name": "stdout",
          "text": [
            "Epoch: 36, Loss: 1.4994770288467407, Acc: 0.9909909963607788\n"
          ]
        },
        {
          "output_type": "stream",
          "name": "stderr",
          "text": [
            "100%|██████████| 37/37 [00:02<00:00, 17.37it/s]\n"
          ]
        },
        {
          "output_type": "stream",
          "name": "stdout",
          "text": [
            "Epoch: 37, Loss: 1.5040712356567383, Acc: 0.9819820523262024\n"
          ]
        },
        {
          "output_type": "stream",
          "name": "stderr",
          "text": [
            "100%|██████████| 37/37 [00:02<00:00, 16.98it/s]\n"
          ]
        },
        {
          "output_type": "stream",
          "name": "stdout",
          "text": [
            "Epoch: 38, Loss: 1.4995051622390747, Acc: 0.977477490901947\n"
          ]
        },
        {
          "output_type": "stream",
          "name": "stderr",
          "text": [
            "100%|██████████| 37/37 [00:02<00:00, 16.89it/s]\n"
          ]
        },
        {
          "output_type": "stream",
          "name": "stdout",
          "text": [
            "Epoch: 39, Loss: 1.5157382488250732, Acc: 0.9684685468673706\n"
          ]
        },
        {
          "output_type": "stream",
          "name": "stderr",
          "text": [
            "100%|██████████| 37/37 [00:02<00:00, 17.00it/s]\n"
          ]
        },
        {
          "output_type": "stream",
          "name": "stdout",
          "text": [
            "Epoch: 40, Loss: 1.5062247514724731, Acc: 0.9729729890823364\n"
          ]
        },
        {
          "output_type": "stream",
          "name": "stderr",
          "text": [
            "100%|██████████| 37/37 [00:02<00:00, 15.02it/s]\n"
          ]
        },
        {
          "output_type": "stream",
          "name": "stdout",
          "text": [
            "Epoch: 41, Loss: 1.5131499767303467, Acc: 0.9684685468673706\n"
          ]
        },
        {
          "output_type": "stream",
          "name": "stderr",
          "text": [
            "100%|██████████| 37/37 [00:02<00:00, 13.33it/s]\n"
          ]
        },
        {
          "output_type": "stream",
          "name": "stdout",
          "text": [
            "Epoch: 42, Loss: 1.505759358406067, Acc: 0.9729729890823364\n"
          ]
        },
        {
          "output_type": "stream",
          "name": "stderr",
          "text": [
            "100%|██████████| 37/37 [00:02<00:00, 16.27it/s]\n"
          ]
        },
        {
          "output_type": "stream",
          "name": "stdout",
          "text": [
            "Epoch: 43, Loss: 1.5393991470336914, Acc: 0.9504504799842834\n"
          ]
        },
        {
          "output_type": "stream",
          "name": "stderr",
          "text": [
            "100%|██████████| 37/37 [00:02<00:00, 16.16it/s]\n"
          ]
        },
        {
          "output_type": "stream",
          "name": "stdout",
          "text": [
            "Epoch: 44, Loss: 1.498342752456665, Acc: 0.9774774312973022\n"
          ]
        },
        {
          "output_type": "stream",
          "name": "stderr",
          "text": [
            "100%|██████████| 37/37 [00:02<00:00, 16.96it/s]\n"
          ]
        },
        {
          "output_type": "stream",
          "name": "stdout",
          "text": [
            "Epoch: 45, Loss: 1.5091588497161865, Acc: 0.9819819331169128\n"
          ]
        },
        {
          "output_type": "stream",
          "name": "stderr",
          "text": [
            "100%|██████████| 37/37 [00:02<00:00, 16.89it/s]\n"
          ]
        },
        {
          "output_type": "stream",
          "name": "stdout",
          "text": [
            "Epoch: 46, Loss: 1.4976249933242798, Acc: 0.9819819331169128\n"
          ]
        },
        {
          "output_type": "stream",
          "name": "stderr",
          "text": [
            "100%|██████████| 37/37 [00:02<00:00, 16.85it/s]\n"
          ]
        },
        {
          "output_type": "stream",
          "name": "stdout",
          "text": [
            "Epoch: 47, Loss: 1.4917360544204712, Acc: 0.990990936756134\n"
          ]
        },
        {
          "output_type": "stream",
          "name": "stderr",
          "text": [
            "100%|██████████| 37/37 [00:02<00:00, 17.12it/s]\n"
          ]
        },
        {
          "output_type": "stream",
          "name": "stdout",
          "text": [
            "Epoch: 48, Loss: 1.5346221923828125, Acc: 0.9684685468673706\n"
          ]
        },
        {
          "output_type": "stream",
          "name": "stderr",
          "text": [
            "100%|██████████| 37/37 [00:02<00:00, 17.11it/s]"
          ]
        },
        {
          "output_type": "stream",
          "name": "stdout",
          "text": [
            "Epoch: 49, Loss: 1.5114223957061768, Acc: 0.9729729890823364\n"
          ]
        },
        {
          "output_type": "stream",
          "name": "stderr",
          "text": [
            "\n"
          ]
        }
      ],
      "source": [
        "# train\n",
        "model.train()\n",
        "\n",
        "for epoch in range(epochs):\n",
        "    train_loss = 0.0\n",
        "    train_acc = 0.0\n",
        "    for audios, labels in tqdm(train_data_loader):\n",
        "        audios, labels = audios.to(device), labels.to(device)\n",
        "        labels_one_hot = torch.nn.functional.one_hot(labels, num_classes=10).type(torch.FloatTensor).to(device)\n",
        "\n",
        "        preds = model(audios)\n",
        "        loss = loss_function(preds, labels_one_hot)\n",
        "        \n",
        "        optimizer.zero_grad()\n",
        "        loss.backward()\n",
        "        optimizer.step()\n",
        "\n",
        "        train_loss += loss\n",
        "        train_acc += model.accuracy(preds, labels)\n",
        "    \n",
        "    total_loss = train_loss / len(train_data_loader)\n",
        "    total_acc = train_acc / len(train_data_loader)\n",
        "\n",
        "    print(f\"Epoch: {epoch}, Loss: {total_loss}, Acc: {total_acc}\")"
      ]
    },
    {
      "cell_type": "code",
      "execution_count": null,
      "metadata": {
        "colab": {
          "base_uri": "https://localhost:8080/"
        },
        "id": "fap2oC9y6DQF",
        "outputId": "1a626964-f71e-4c7a-ea14-f0134b871da2"
      },
      "outputs": [
        {
          "output_type": "stream",
          "name": "stderr",
          "text": [
            "100%|██████████| 5/5 [00:04<00:00,  1.04it/s]"
          ]
        },
        {
          "output_type": "stream",
          "name": "stdout",
          "text": [
            "Loss: 1.4841755628585815, Acc: 1.0\n"
          ]
        },
        {
          "output_type": "stream",
          "name": "stderr",
          "text": [
            "\n"
          ]
        }
      ],
      "source": [
        "model.eval()\n",
        "\n",
        "test_loss = 0.0\n",
        "test_acc = 0.0\n",
        "for audios, labels in tqdm(test_data_loader):\n",
        "    audios, labels = audios.to(device), labels.to(device)\n",
        "    labels_one_hot = torch.nn.functional.one_hot(labels, num_classes=10).type(torch.FloatTensor).to(device)\n",
        "\n",
        "    preds = model(audios)\n",
        "    loss = loss_function(preds, labels_one_hot)\n",
        "\n",
        "    test_loss += loss\n",
        "    test_acc += model.accuracy(preds, labels)\n",
        "\n",
        "total_loss = test_loss / len(test_data_loader)\n",
        "total_acc = test_acc / len(test_data_loader)\n",
        "\n",
        "print(f\"Loss: {total_loss}, Acc: {total_acc}\")"
      ]
    },
    {
      "cell_type": "code",
      "execution_count": null,
      "metadata": {
        "id": "wBYGFnp46DQF"
      },
      "outputs": [],
      "source": [
        "torch.save(model.state_dict(), ROOT + \"weights.pth\")"
      ]
    },
    {
      "cell_type": "code",
      "execution_count": null,
      "metadata": {
        "id": "G58EZP856DQG"
      },
      "outputs": [],
      "source": [
        "# Inference\n",
        "\n",
        "signal, sample_rate = torchaudio.load(\"input/test.ogg\")\n",
        "\n",
        "# preprocess\n",
        "signal = torch.mean(signal, dim=0, keepdim=True)\n",
        "new_sample_rate = 8000\n",
        "transform = torchaudio.transforms.Resample(orig_freq=sample_rate, new_freq=new_sample_rate)\n",
        "signal = transform(signal)\n",
        "signal = signal[:, 32000:40000]\n",
        "signal = signal.unsqueeze(0).to(device)\n",
        "\n",
        "# process\n",
        "preds = model(signal)\n",
        "\n",
        "# postprocess\n",
        "preds = preds.cpu().detach().numpy()\n",
        "output = np.argmax(preds)\n",
        "print(output)"
      ]
    },
    {
      "cell_type": "markdown",
      "source": [
        "### Telegram BOT"
      ],
      "metadata": {
        "id": "WPB5W6kf82na"
      }
    },
    {
      "cell_type": "code",
      "execution_count": null,
      "metadata": {
        "id": "7WseHJHN6DQG"
      },
      "outputs": [],
      "source": [
        "!pip install pyTelegramBotAPI"
      ]
    },
    {
      "cell_type": "code",
      "source": [
        "import telebot\n",
        "import torch\n",
        "import torchaudio\n",
        "\n",
        "\n",
        "Token = open(ROOT + \"token.txt\",\"r\").read()\n",
        "bot = telebot.TeleBot(Token)\n",
        "data = ['alireza', 'benyamin', 'maryam', 'mohammadali', 'morteza', 'nahid', 'parisa', 'sajjad', 'zahra', 'zeynab']\n",
        "\n",
        "@bot.message_handler(commands=['start'])\n",
        "def start(messages):\n",
        "    bot.send_message(messages.chat.id, f'Hey {messages.from_user.first_name}.\\ngive me a voice')\n",
        "\n",
        "@bot.message_handler(content_types=['voice'])\n",
        "def voice(message):\n",
        "  try:\n",
        "    audio_info = bot.get_file(message.voice.file_id)\n",
        "    \n",
        "    downloaded_file = bot.download_file(audio_info.file_path)\n",
        "    src = audio_info.file_path\n",
        "    with open(src, 'wb') as audio_file:\n",
        "        audio_file.write(downloaded_file)\n",
        "\n",
        "    signal, sample_rate = torchaudio.load(src)\n",
        "\n",
        "    # preprocess\n",
        "    signal = torch.mean(signal, dim=0, keepdim=True)\n",
        "    transform = torchaudio.transforms.Resample(orig_freq=sample_rate, new_freq=8000)\n",
        "    signal = transform(signal)\n",
        "    voice = signal.unsqueeze(0).to(device)\n",
        "\n",
        "    # process\n",
        "    preds = model(voice)\n",
        "\n",
        "    # postprocess\n",
        "    preds = preds.cpu().detach().numpy()\n",
        "    output = np.argmax(preds)\n",
        "    if data[output]:\n",
        "        bot.reply_to(message, data[output])\n",
        "    else:\n",
        "      print(\"Sorry stranger we dont serve here.\")\n",
        "  except Exception as e:\n",
        "    bot.reply_to(message, f'Something went wrong.\\nCall my dad @Benyamin_Zojaji\\nError log:{e}')\n",
        "  \n",
        "@bot.message_handler(commands=['help'])\n",
        "def help(message):\n",
        "  bot.reply_to(message, f'Give me a voice, Ill tell you who you are\\nMade with 💖 in the middle of University exams👨‍💻\\n@Benyamin_Zojaji')\n",
        "\n",
        "bot.polling()"
      ],
      "metadata": {
        "id": "QyStIyZY9EUf"
      },
      "execution_count": 24,
      "outputs": []
    }
  ],
  "metadata": {
    "kernelspec": {
      "display_name": "Python 3.10.6 64-bit",
      "language": "python",
      "name": "python3"
    },
    "language_info": {
      "codemirror_mode": {
        "name": "ipython",
        "version": 3
      },
      "file_extension": ".py",
      "mimetype": "text/x-python",
      "name": "python",
      "nbconvert_exporter": "python",
      "pygments_lexer": "ipython3",
      "version": "3.10.6"
    },
    "orig_nbformat": 4,
    "vscode": {
      "interpreter": {
        "hash": "916dbcbb3f70747c44a77c7bcd40155683ae19c65e1c03b4aa3499c5328201f1"
      }
    },
    "colab": {
      "provenance": []
    }
  },
  "nbformat": 4,
  "nbformat_minor": 0
}